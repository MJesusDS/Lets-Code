{
 "cells": [
  {
   "cell_type": "markdown",
   "id": "eda3607a",
   "metadata": {},
   "source": [
    "# 2ª Avaliação - Continuação Mini Projeto - Utilizando classe e métodos"
   ]
  },
  {
   "cell_type": "markdown",
   "id": "d18de352",
   "metadata": {
    "heading_collapsed": true
   },
   "source": [
    "## OBJETIVO:"
   ]
  },
  {
   "cell_type": "markdown",
   "id": "fbc3adf9",
   "metadata": {
    "hidden": true
   },
   "source": [
    "Aplicar os conceitos de **classe e métodos** ao mini projeto da avaliação anterior - ***Mini_Projeto_KNN***  \n",
    "Melhorar a codificação caso julgar necessário\n",
    "\n",
    "Os tópicos utilizados para a resolução do problema foram:\n",
    "\n",
    "    - Variáveis (entradas e saídas)\n",
    "    - Operações lógicas\n",
    "    - Expressões condicionais\n",
    "    - Malhas de repetição (com e sem contador)\n",
    "    - Listas e Funções de listas\n",
    "    - Strings e Funções de strings\n",
    "    - Funções\n",
    "    - Estruturas de dados\n",
    "    - Classes e métodos"
   ]
  },
  {
   "cell_type": "markdown",
   "id": "f7705af1",
   "metadata": {
    "heading_collapsed": true
   },
   "source": [
    "## DEFINIÇÃO DO PROBLEMA:"
   ]
  },
  {
   "cell_type": "markdown",
   "id": "a44f60dc",
   "metadata": {
    "hidden": true
   },
   "source": [
    "Criar um pacote contendo uma classe e os métodos necessários para a classificação (arquivo.py) e importar este pacote ao código do programa principal.\n",
    "\n",
    "### Regras\n",
    "\n",
    "   - Se você precisar de uma função para computar algo crie ela\n",
    "   - Não é permitido usar nenhum módulo externo como numpy e math\n",
    "   - Use apenas os objetos e fluxos visto até o momento no curso\n",
    "   - **A solução deve abranger a generalização da quantidade de carteiras (no mini projeto 1 eram apenas 4)**\n",
    "   - **O pacote deve conter 1 classe e pelo menos 2 métodos**\n",
    "   - **Deve-se permitir alterar o valor de K no programa principal**\n",
    "   - **Entregar 2 arquivos: o programa principal e o pacote criado**\n",
    "   - **Desejável que os métodos apresentem 'DOCSTRING'**"
   ]
  },
  {
   "cell_type": "markdown",
   "id": "53f2ee4b",
   "metadata": {
    "heading_collapsed": true
   },
   "source": [
    "## METODOLOGIA:"
   ]
  },
  {
   "cell_type": "markdown",
   "id": "bfbd6511",
   "metadata": {
    "hidden": true
   },
   "source": [
    "Ver ***Mini_Projeto_KNN*** em https://github.com/MJesusDS/Lets-Code/tree/main/Avaliacao%201%20-%20Mini%20Projeto"
   ]
  },
  {
   "cell_type": "markdown",
   "id": "aae20438",
   "metadata": {},
   "source": [
    "## RESOLUÇÃO:"
   ]
  },
  {
   "cell_type": "code",
   "execution_count": 3,
   "id": "72188511",
   "metadata": {
    "ExecuteTime": {
     "end_time": "2021-07-26T03:53:16.873000Z",
     "start_time": "2021-07-26T03:53:16.688801Z"
    }
   },
   "outputs": [],
   "source": [
    "# BASE DE DADOS\n",
    "\n",
    "# clientes classificados e clientes sem classificação\n",
    "\n",
    "data = [[66707599984, 'Conservador', (5100., 3500., 1400., 200.)], [55695397315, 'Conservador', (4900., 3000., 1400., 200.)],\n",
    "        [63743886918, 'Conservador', (4700., 3200., 1300., 200.)], [55941368774, 'Conservador', (4600., 3100., 1500., 200.)],\n",
    "        [75486280874, 'Conservador', (5000., 3600., 1400., 200.)], [53164949799, 'Conservador', (5400., 3900., 1700., 400.)],\n",
    "        [39898704131, 'Conservador', (4600., 3400., 1400., 300.)], [53740901207, 'Conservador', (5000., 3400., 1500., 200.)],\n",
    "        [51735950236, 'Conservador', (4400., 2900., 1400., 200.)], [47305108951, 'Conservador', (4900., 3100., 1500., 100.)],\n",
    "        [63858864633, 'Conservador', (5400., 3700., 1500., 200.)], [53363167240, 'Conservador', (4800., 3400., 1600., 200.)],\n",
    "        [72133754195, 'Conservador', (4800., 3000., 1400., 100.)], [52802483512, 'Conservador', (4300., 3000., 1100., 100.)],\n",
    "        [57925287214, 'Conservador', (4800., 3400., 1900., 200.)], [74354632224, 'Conservador', (5000., 3000., 1600., 200.)],\n",
    "        [64020216626, 'Conservador', (5000., 3400., 1600., 400.)], [78223722856, 'Conservador', (5200., 3500., 1500., 200.)],\n",
    "        [58245228846, 'Conservador', (5200., 3400., 1400., 200.)], [74490686776, 'Conservador', (4700., 3200., 1600., 200.)],\n",
    "        [48646824781, 'Conservador', (4800., 3100., 1600., 200.)], [77381458676, 'Conservador', (5400., 3400., 1500., 400.)],\n",
    "        [41615431874, 'Conservador', (5200., 4100., 1500., 100.)], [52163844491, 'Conservador', (5500., 4200., 1400., 200.)],\n",
    "        [70276304567, 'Conservador', (4900., 3100., 1500., 200.)], [69119828185, 'Conservador', (5000., 3200., 1200., 200.)],\n",
    "        [65441690046, 'Conservador', (5500., 3500., 1300., 200.)], [56457227894, 'Conservador', (4900., 3600., 1400., 100.)],\n",
    "        [46939428126, 'Conservador', (4400., 3000., 1300., 200.)], [60979942480, 'Conservador', (5100., 3400., 1500., 200.)],\n",
    "        [41648583220, 'Conservador', (5000., 3500., 1300., 300.)], [50376331791, 'Conservador', (4500., 2300., 1300., 300.)],\n",
    "        [67008801023, 'Conservador', (4400., 3200., 1300., 200.)], [72149193419, 'Conservador', (5000., 3500., 1600., 600.)],\n",
    "        [62830733382, 'Conservador', (5100., 3800., 1900., 400.)], [56716675811, 'Conservador', (4800., 3000., 1400., 300.)],\n",
    "        [61089667146, 'Conservador', (5100., 3800., 1600., 200.)], [47795509468, 'Conservador', (4600., 3200., 1400., 200.)],\n",
    "        [60899885693, 'Conservador', (5300., 3700., 1500., 200.)], [53433670705, 'Conservador', (5000., 3300., 1400., 200.)],\n",
    "        [54850120580, 'Moderado', (7000., 3200., 4700., 1400.)], [71457789994, 'Moderado', (6400., 3200., 4500., 1500.)],\n",
    "        [67692777563, 'Moderado', (6900., 3100., 4900., 1500.)], [43133573182, 'Moderado', (5500., 2300., 4000., 1300.)],\n",
    "        [55150612815, 'Moderado', (6500., 2800., 4600., 1500.)], [48211725243, 'Moderado', (5700., 2800., 4500., 1300.)],\n",
    "        [76686463776, 'Moderado', (6300., 3300., 4700., 1600.)], [71971000560, 'Moderado', (4900., 2400., 3300., 1000.)],\n",
    "        [40307235992, 'Moderado', (6600., 2900., 4600., 1300.)], [44826533081, 'Moderado', (5200., 2700., 3900., 1400.)],\n",
    "        [45735414894, 'Moderado', (5900., 3200., 4800., 1800.)], [57137146514, 'Moderado', (6100., 2800., 4000., 1300.)],\n",
    "        [53657058251, 'Moderado', (6300., 2500., 4900., 1500.)], [52941460485, 'Moderado', (6100., 2800., 4700., 1200.)],\n",
    "        [44306600683, 'Moderado', (6400., 2900., 4300., 1300.)], [43460747924, 'Moderado', (6600., 3000., 4400., 1400.)],\n",
    "        [75590376075, 'Moderado', (6800., 2800., 4800., 1400.)], [68267282206, 'Moderado', (6700., 3000., 5000., 1700.)],\n",
    "        [77567920298, 'Moderado', (6000., 2900., 4500., 1500.)], [67600419504, 'Moderado', (5700., 2600., 3500., 1000.)],\n",
    "        [44902189811, 'Moderado', (5500., 2400., 3800., 1100.)], [62966866614, 'Moderado', (5500., 2400., 3700., 1000.)],\n",
    "        [56182108880, 'Moderado', (5800., 2700., 3900., 1200.)], [78299785392, 'Moderado', (6000., 2700., 5100., 1600.)],\n",
    "        [45206071878, 'Moderado', (5400., 3000., 4500., 1500.)], [57381925887, 'Moderado', (6000., 3400., 4500., 1600.)],\n",
    "        [65654934891, 'Moderado', (6700., 3100., 4700., 1500.)], [56130640481, 'Moderado', (6300., 2300., 4400., 1300.)],\n",
    "        [59667611672, 'Moderado', (5600., 3000., 4100., 1300.)], [40349334385, 'Moderado', (5500., 2500., 4000., 1300.)],\n",
    "        [68422640081, 'Moderado', (5500., 2600., 4400., 1200.)], [55245923439, 'Moderado', (6100., 3000., 4600., 1400.)],\n",
    "        [51286696873, 'Moderado', (5800., 2600., 4000., 1200.)], [41065279767, 'Moderado', (5000., 2300., 3300., 1000.)],\n",
    "        [42866454119, 'Moderado', (5600., 2700., 4200., 1300.)], [61962944542, 'Moderado', (5700., 3000., 4200., 1200.)],\n",
    "        [48623501235, 'Moderado', (5700., 2900., 4200., 1300.)], [49475220139, 'Moderado', (6200., 2900., 4300., 1300.)], \n",
    "        [52245218531, 'Moderado', (5100., 2500., 3000., 1100.)], [50932926697, 'Moderado', (5700., 2800., 4100., 1300.)], \n",
    "        [47432932248, 'Agressivo', (6300., 3300., 6000., 2500.)], [39321991579, 'Agressivo', (5800., 2700., 5100., 1900.)], \n",
    "        [46283759608, 'Agressivo', (7100., 3000., 5900., 2100.)], [56996272538, 'Agressivo', (6300., 2900., 5600., 1800.)], \n",
    "        [77232189978, 'Agressivo', (6500., 3000., 5800., 2200.)], [77183282421, 'Agressivo', (7600., 3000., 6600., 2100.)], \n",
    "        [42857147573, 'Agressivo', (4900., 2500., 4500., 1700.)], [39331584043, 'Agressivo', (7300., 2900., 6300., 1800.)], \n",
    "        [48130345228, 'Agressivo', (6700., 2500., 5800., 1800.)], [71422443953, 'Agressivo', (7200., 3600., 6100., 2500.)], \n",
    "        [72508507904, 'Agressivo', (6900., 3200., 5700., 2300.)], [41188727558, 'Agressivo', (5600., 2800., 4900., 2000.)], \n",
    "        [61358776640, 'Agressivo', (7700., 2800., 6700., 2000.)], [66934042323, 'Agressivo', (6300., 2700., 4900., 1800.)], \n",
    "        [40622495567, 'Agressivo', (6700., 3300., 5700., 2100.)], [57221661311, 'Agressivo', (7200., 3200., 6000., 1800.)], \n",
    "        [45159362930, 'Agressivo', (6200., 2800., 4800., 1800.)], [45018975174, 'Agressivo', (6100., 3000., 4900., 1800.)], \n",
    "        [70685429140, 'Agressivo', (6400., 2800., 5600., 2100.)], [61808723477, 'Agressivo', (7200., 3000., 5800., 1600.)], \n",
    "        [56363906548, 'Agressivo', (7400., 2800., 6100., 1900.)], [39646194720, 'Agressivo', (7900., 3800., 6400., 2000.)], \n",
    "        [55385494438, 'Agressivo', (6400., 2800., 5600., 2200.)], [75796138061, 'Agressivo', (6300., 2800., 5100., 1500.)], \n",
    "        [53595767857, 'Agressivo', (6100., 2600., 5600., 1400.)], [48758828080, 'Agressivo', (7700., 3000., 6100., 2300.)], \n",
    "        [58387651356, 'Agressivo', (6300., 3400., 5600., 2400.)], [72846931192, 'Agressivo', (6400., 3100., 5500., 1800.)], \n",
    "        [47046896346, 'Agressivo', (6000., 3000., 4800., 1800.)], [69730292799, 'Agressivo', (6900., 3100., 5400., 2100.)], \n",
    "        [48177836349, 'Agressivo', (6700., 3100., 5600., 2400.)], [57976326635, 'Agressivo', (6900., 3100., 5100., 2300.)], \n",
    "        [55710813002, 'Agressivo', (5800., 2700., 5100., 1900.)], [64028580439, 'Agressivo', (6800., 3200., 5900., 2300.)], \n",
    "        [49962942971, 'Agressivo', (6700., 3300., 5700., 2500.)], [47250893163, 'Agressivo', (6700., 3000., 5200., 2300.)], \n",
    "        [75559276274, 'Agressivo', (6300., 2500., 5000., 1900.)], [58529878272, 'Agressivo', (6500., 3000., 5200., 2000.)], \n",
    "        [76005896622, 'Agressivo', (6200., 3400., 5400., 2300.)], [49212614633, 'Agressivo', (5900., 3000., 5100., 1800.)]]\n",
    "\n",
    "no_class = [[45926320819, '', (5800., 4000., 1200., 200.)], [52559670741, '', (5700., 4400., 1500., 400.)],\n",
    "           [59016004832, '', (5400., 3900., 1300., 400.)], [66175672425, '', (5100., 3500., 1400., 300.)],\n",
    "            [53330429526, '', (5700., 3800., 1700., 300.)], [43765563403, '', (5100., 3800., 1500., 300.)],\n",
    "            [68020822591, '', (5400., 3400., 1700., 200.)], [53939481689, '', (5100., 3700., 1500., 400.)],\n",
    "            [47014057561, '', (4600., 3600., 1000., 200.)], [57183542047, '', (5100., 3300., 1700., 500.)],\n",
    "            [68518284363, '', (5000., 2000., 3500., 1000.)], [65806049885, '', (5900., 3000., 4200., 1500.)],\n",
    "            [54128073086, '', (6000., 2200., 4000., 1000.)], [41306785494, '', (6100., 2900., 4700., 1400.)],\n",
    "            [65234831039, '', (5600., 2900., 3600., 1300.)], [50964498067, '', (6700., 3100., 4400., 1400.)],\n",
    "            [50810951429, '', (5600., 3000., 4500., 1500.)], [48765044397, '', (5800., 2700., 4100., 1000.)],\n",
    "            [41960083761, '', (6200., 2200., 4500., 1500.)], [76657763082, '', (5600., 2500., 3900., 1100.)],\n",
    "            [64726487742, '', (6500., 3200., 5100., 2000.)], [75746566283, '', (6400., 2700., 5300., 1900.)],\n",
    "            [78576734793, '', (6800., 3000., 5500., 2100.)], [56440141847, '', (5700., 2500., 5000., 2000.)],\n",
    "            [66827423000, '', (5800., 2800., 5100., 2400.)], [45267873396, '', (6400., 3200., 5300., 2300.)],\n",
    "            [46387191493, '', (6500., 3000., 5500., 1800.)], [54273611732, '', (7700., 3800., 6700., 2200.)],\n",
    "            [75135392881, '', (7700., 2600., 6900., 2300.)], [64703873108, '', (6000., 2200., 5000., 1500.)]]"
   ]
  },
  {
   "cell_type": "code",
   "execution_count": 10,
   "id": "3ea81a8f",
   "metadata": {
    "ExecuteTime": {
     "end_time": "2021-07-26T04:04:05.378207Z",
     "start_time": "2021-07-26T04:04:05.339232Z"
    }
   },
   "outputs": [
    {
     "name": "stdout",
     "output_type": "stream",
     "text": [
      "Perfis estimados para a base de dados no_class:\n",
      "\n",
      "45926320819 : Conservador\n",
      "52559670741 : Conservador\n",
      "59016004832 : Conservador\n",
      "66175672425 : Conservador\n",
      "53330429526 : Conservador\n",
      "43765563403 : Conservador\n",
      "68020822591 : Conservador\n",
      "53939481689 : Conservador\n",
      "47014057561 : Conservador\n",
      "57183542047 : Conservador\n",
      "68518284363 : Moderado\n",
      "65806049885 : Moderado\n",
      "54128073086 : Moderado\n",
      "41306785494 : Moderado\n",
      "65234831039 : Moderado\n",
      "50964498067 : Moderado\n",
      "50810951429 : Moderado\n",
      "48765044397 : Moderado\n",
      "41960083761 : Moderado\n",
      "76657763082 : Moderado\n",
      "64726487742 : Agressivo\n",
      "75746566283 : Agressivo\n",
      "78576734793 : Agressivo\n",
      "56440141847 : Agressivo\n",
      "66827423000 : Agressivo\n",
      "45267873396 : Agressivo\n",
      "46387191493 : Agressivo\n",
      "54273611732 : Agressivo\n",
      "75135392881 : Agressivo\n",
      "64703873108 : Agressivo\n"
     ]
    }
   ],
   "source": [
    "# CORPO DO CÓDIGO\n",
    "\n",
    "from Classifica_Knn import Knn\n",
    "\n",
    "# definição do valor de k (quantidade de vizinhos mais próximos)\n",
    "k = 5 \n",
    "\n",
    "# dicionários auxiliares para interação\n",
    "dic_no_class = {}\n",
    "perfil_classificado = {}\n",
    "\n",
    "# instanciando o objeto do tipo Knn\n",
    "cliente_novo = Knn(k, data, no_class, dic_no_class, perfil_classificado)\n",
    "\n",
    "for cliente_no_class in no_class:\n",
    "    \n",
    "    # associando CPF não classificados com distância e cpf dos clientes classificados\n",
    "    cliente_novo.associa(cliente_no_class)\n",
    "    \n",
    "    # criando uma lista somente com as k menores distâncias (vizinhos mais próximos)\n",
    "    menor_d = cliente_novo.menor_dist(cliente_no_class)\n",
    "        \n",
    "    # obtendo os perfis dos vizinhos mais próximos\n",
    "    vizinho = cliente_novo.perfil_cliente(menor_d, cliente_no_class)\n",
    "    \n",
    "    # obtendo o perfil de maior frequência ('MODA') com base nos vizinhos correspondentes mais próximos\n",
    "    cliente_novo.moda(vizinho, cliente_no_class)\n",
    "    \n",
    "# apresentando a classificação do perfil dos novos clientes\n",
    "cliente_novo.imprime_clientes()  \n",
    "    "
   ]
  },
  {
   "cell_type": "code",
   "execution_count": null,
   "id": "0f1d768a",
   "metadata": {},
   "outputs": [],
   "source": []
  }
 ],
 "metadata": {
  "kernelspec": {
   "display_name": "Python 3",
   "language": "python",
   "name": "python3"
  },
  "language_info": {
   "codemirror_mode": {
    "name": "ipython",
    "version": 3
   },
   "file_extension": ".py",
   "mimetype": "text/x-python",
   "name": "python",
   "nbconvert_exporter": "python",
   "pygments_lexer": "ipython3",
   "version": "3.9.4"
  },
  "varInspector": {
   "cols": {
    "lenName": 16,
    "lenType": 16,
    "lenVar": 40
   },
   "kernels_config": {
    "python": {
     "delete_cmd_postfix": "",
     "delete_cmd_prefix": "del ",
     "library": "var_list.py",
     "varRefreshCmd": "print(var_dic_list())"
    },
    "r": {
     "delete_cmd_postfix": ") ",
     "delete_cmd_prefix": "rm(",
     "library": "var_list.r",
     "varRefreshCmd": "cat(var_dic_list()) "
    }
   },
   "types_to_exclude": [
    "module",
    "function",
    "builtin_function_or_method",
    "instance",
    "_Feature"
   ],
   "window_display": false
  }
 },
 "nbformat": 4,
 "nbformat_minor": 5
}
