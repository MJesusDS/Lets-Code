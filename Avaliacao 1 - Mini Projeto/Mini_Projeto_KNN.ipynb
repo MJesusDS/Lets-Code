{
 "cells": [
  {
   "cell_type": "markdown",
   "id": "6ea30a2d",
   "metadata": {
    "ExecuteTime": {
     "end_time": "2021-07-10T14:25:52.281162Z",
     "start_time": "2021-07-10T14:25:52.253173Z"
    }
   },
   "source": [
    "\n",
    "# 1ª Avaliação - Mini Projeto"
   ]
  },
  {
   "cell_type": "markdown",
   "id": "f9967b86",
   "metadata": {},
   "source": [
    "  "
   ]
  },
  {
   "cell_type": "markdown",
   "id": "92cb27fa",
   "metadata": {
    "heading_collapsed": true
   },
   "source": [
    "## OBJETIVO:"
   ]
  },
  {
   "cell_type": "markdown",
   "id": "3b4fe098",
   "metadata": {
    "hidden": true
   },
   "source": [
    "Este mini projeto visa utilizar os conhecimentos adquiridos nas aulas de Data Science Degree - Let's Code - como forma de avaliação de conteúdo da primeira parte do módulo 1.\n",
    "\n",
    "Os tópicos utilizados para a resolução do problema foram:\n",
    "\n",
    "    - Variáveis (entradas e saídas)\n",
    "    - Operações lógicas\n",
    "    - Expressões condicionais\n",
    "    - Malhas de repetição (com e sem contador)\n",
    "    - Listas e Funções de listas\n",
    "    - Strings e Funções de strings\n",
    "    - Funções\n",
    "    - Estruturas de dados"
   ]
  },
  {
   "cell_type": "markdown",
   "id": "9889b603",
   "metadata": {
    "heading_collapsed": true
   },
   "source": [
    "## DEFINIÇÃO DO PROBLEMA:"
   ]
  },
  {
   "cell_type": "markdown",
   "id": "b26d2e81",
   "metadata": {
    "hidden": true
   },
   "source": [
    "Os dados fornecidos são referentes ao cadastro de clientes de uma empresa de investimentos com suas respectivas carteira de investimentos, que indica se esse cliente tem o perfil de investidor **Conservador**, **Moderado** ou **Agressivo**. \n",
    "\n",
    "O intuito é, a partir do investimento de alguns clientes que já tem um perfil definido, estimar esse perfil para aqueles que ainda não estão classificados, afim de oferecer novos produtos que sejam mais adequados a eles. \n",
    "\n",
    "Os dados seguem o seguinte padrão:\n",
    "\n",
    "[**CPF**: INT, **Perfil Do Investidor**: STRING, **Carteira de Investimento**: TUPLA]\n",
    "\n",
    "### Regras\n",
    "\n",
    "- Se você precisar de uma função para computar algo crie ela\n",
    "- Não é permitido usar nenhum módulo externo como numpy e math\n",
    "- Use apenas os objetos e fluxos visto até o momento no curso"
   ]
  },
  {
   "cell_type": "markdown",
   "id": "65b35ea7",
   "metadata": {
    "heading_collapsed": true
   },
   "source": [
    "## METODOLOGIA:"
   ]
  },
  {
   "cell_type": "markdown",
   "id": "71f72d7f",
   "metadata": {
    "hidden": true
   },
   "source": [
    "A metodologia sugerida para a resolução do problema é um modelo supervisionado de **machine learning** que pode ser utilizado tanto para classificação, isto é, rotular os dados; quanto para regressão, ou seja, aproximar valores, chamadado **K-Nearest Neighbors - KNN.**\n",
    "\n",
    "### Características do KNN:\n",
    "\n",
    "- Dependendo da implementação pode ser $O(n*m)$ ou $O(log(n))$\n",
    "- Simples\n",
    "- Interpretável\n",
    "- Largamente conhecido e estudado\n",
    "- Razoavelmente rápido\n",
    "\n",
    "Por conta disso é um ótimo benchmark  \n",
    "\n",
    "### Links Úteis:\n",
    "\n",
    "#### Definições\n",
    "- [\"Primeira\" aparição do modelo](https://apps.dtic.mil/dtic/tr/fulltext/u2/a800276.pdf)\n",
    "- [Expansão do KNN](http://ssg.mit.edu/cal/abs/2000_spring/np_dens/classification/cover67.pdf)\n",
    "\n",
    "#### Casos de uso\n",
    "- [Click Stream](https://www.sciencedirect.com/science/article/pii/S221083271400026X#:~:text=The%20K%2DNearest%20Neighbor%20classification,a%20given%20time%20%5B24%5D)\n",
    "- [Battery life](https://www.sciencedirect.com/science/article/abs/pii/S0959652619342799)\n",
    "- [Mahalanobis Distance](https://jmlr.csail.mit.edu/papers/volume10/weinberger09a/weinberger09a.pdf)\n",
    "\n",
    "#### Dataviz\n",
    "- [Stanford](http://vision.stanford.edu/teaching/cs231n-demos/knn/)\n",
    "- [IRA](https://lecture-demo.ira.uka.de/knn-demo/preset=3)\n",
    "\n",
    "### Algoritmo\n",
    "\n",
    "- Passo 1: \n",
    "    Definir um valor para K\n",
    "- Passo 2: \n",
    "    Definir os K vizinhos mais próximos do ponto a ser classificado de acordo com uma função de distância.\n",
    "- Passo 3:\n",
    "    - Se for um problema de **Regressão**:\n",
    "        Calcular a **média** de todos os vizinhos.\n",
    "    - Se for um problema de **Classificação**:\n",
    "        Calcular a **moda** de todos os vizinhos.\n",
    "- Passo 4:\n",
    "    Atribuir o valor/classe ao ponto de interesse conforme cálculo do Passo 3.\n"
   ]
  },
  {
   "cell_type": "markdown",
   "id": "a6367ca8",
   "metadata": {
    "heading_collapsed": true
   },
   "source": [
    "## RESOLUÇÃO:"
   ]
  },
  {
   "cell_type": "code",
   "execution_count": null,
   "id": "e2368cb3",
   "metadata": {
    "ExecuteTime": {
     "end_time": "2021-07-10T19:41:01.988046Z",
     "start_time": "2021-07-10T19:41:01.914092Z"
    },
    "hidden": true
   },
   "outputs": [],
   "source": [
    "#BASE DE DADOS\n",
    "\n",
    "#Clientes Classificados:\n",
    "\n",
    "data = [[66707599984, 'Conservador', (5100., 3500., 1400., 200.)], [55695397315, 'Conservador', (4900., 3000., 1400., 200.)],\n",
    "        [63743886918, 'Conservador', (4700., 3200., 1300., 200.)], [55941368774, 'Conservador', (4600., 3100., 1500., 200.)],\n",
    "        [75486280874, 'Conservador', (5000., 3600., 1400., 200.)], [53164949799, 'Conservador', (5400., 3900., 1700., 400.)],\n",
    "        [39898704131, 'Conservador', (4600., 3400., 1400., 300.)], [53740901207, 'Conservador', (5000., 3400., 1500., 200.)],\n",
    "        [51735950236, 'Conservador', (4400., 2900., 1400., 200.)], [47305108951, 'Conservador', (4900., 3100., 1500., 100.)],\n",
    "        [63858864633, 'Conservador', (5400., 3700., 1500., 200.)], [53363167240, 'Conservador', (4800., 3400., 1600., 200.)],\n",
    "        [72133754195, 'Conservador', (4800., 3000., 1400., 100.)], [52802483512, 'Conservador', (4300., 3000., 1100., 100.)],\n",
    "        [57925287214, 'Conservador', (4800., 3400., 1900., 200.)], [74354632224, 'Conservador', (5000., 3000., 1600., 200.)],\n",
    "        [64020216626, 'Conservador', (5000., 3400., 1600., 400.)], [78223722856, 'Conservador', (5200., 3500., 1500., 200.)],\n",
    "        [58245228846, 'Conservador', (5200., 3400., 1400., 200.)], [74490686776, 'Conservador', (4700., 3200., 1600., 200.)],\n",
    "        [48646824781, 'Conservador', (4800., 3100., 1600., 200.)], [77381458676, 'Conservador', (5400., 3400., 1500., 400.)],\n",
    "        [41615431874, 'Conservador', (5200., 4100., 1500., 100.)], [52163844491, 'Conservador', (5500., 4200., 1400., 200.)],\n",
    "        [70276304567, 'Conservador', (4900., 3100., 1500., 200.)], [69119828185, 'Conservador', (5000., 3200., 1200., 200.)],\n",
    "        [65441690046, 'Conservador', (5500., 3500., 1300., 200.)], [56457227894, 'Conservador', (4900., 3600., 1400., 100.)],\n",
    "        [46939428126, 'Conservador', (4400., 3000., 1300., 200.)], [60979942480, 'Conservador', (5100., 3400., 1500., 200.)],\n",
    "        [41648583220, 'Conservador', (5000., 3500., 1300., 300.)], [50376331791, 'Conservador', (4500., 2300., 1300., 300.)],\n",
    "        [67008801023, 'Conservador', (4400., 3200., 1300., 200.)], [72149193419, 'Conservador', (5000., 3500., 1600., 600.)],\n",
    "        [62830733382, 'Conservador', (5100., 3800., 1900., 400.)], [56716675811, 'Conservador', (4800., 3000., 1400., 300.)],\n",
    "        [61089667146, 'Conservador', (5100., 3800., 1600., 200.)], [47795509468, 'Conservador', (4600., 3200., 1400., 200.)],\n",
    "        [60899885693, 'Conservador', (5300., 3700., 1500., 200.)], [53433670705, 'Conservador', (5000., 3300., 1400., 200.)],\n",
    "        [54850120580, 'Moderado', (7000., 3200., 4700., 1400.)], [71457789994, 'Moderado', (6400., 3200., 4500., 1500.)],\n",
    "        [67692777563, 'Moderado', (6900., 3100., 4900., 1500.)], [43133573182, 'Moderado', (5500., 2300., 4000., 1300.)],\n",
    "        [55150612815, 'Moderado', (6500., 2800., 4600., 1500.)], [48211725243, 'Moderado', (5700., 2800., 4500., 1300.)],\n",
    "        [76686463776, 'Moderado', (6300., 3300., 4700., 1600.)], [71971000560, 'Moderado', (4900., 2400., 3300., 1000.)],\n",
    "        [40307235992, 'Moderado', (6600., 2900., 4600., 1300.)], [44826533081, 'Moderado', (5200., 2700., 3900., 1400.)],\n",
    "        [45735414894, 'Moderado', (5900., 3200., 4800., 1800.)], [57137146514, 'Moderado', (6100., 2800., 4000., 1300.)],\n",
    "        [53657058251, 'Moderado', (6300., 2500., 4900., 1500.)], [52941460485, 'Moderado', (6100., 2800., 4700., 1200.)],\n",
    "        [44306600683, 'Moderado', (6400., 2900., 4300., 1300.)], [43460747924, 'Moderado', (6600., 3000., 4400., 1400.)],\n",
    "        [75590376075, 'Moderado', (6800., 2800., 4800., 1400.)], [68267282206, 'Moderado', (6700., 3000., 5000., 1700.)],\n",
    "        [77567920298, 'Moderado', (6000., 2900., 4500., 1500.)], [67600419504, 'Moderado', (5700., 2600., 3500., 1000.)],\n",
    "        [44902189811, 'Moderado', (5500., 2400., 3800., 1100.)], [62966866614, 'Moderado', (5500., 2400., 3700., 1000.)],\n",
    "        [56182108880, 'Moderado', (5800., 2700., 3900., 1200.)], [78299785392, 'Moderado', (6000., 2700., 5100., 1600.)],\n",
    "        [45206071878, 'Moderado', (5400., 3000., 4500., 1500.)], [57381925887, 'Moderado', (6000., 3400., 4500., 1600.)],\n",
    "        [65654934891, 'Moderado', (6700., 3100., 4700., 1500.)], [56130640481, 'Moderado', (6300., 2300., 4400., 1300.)],\n",
    "        [59667611672, 'Moderado', (5600., 3000., 4100., 1300.)], [40349334385, 'Moderado', (5500., 2500., 4000., 1300.)],\n",
    "        [68422640081, 'Moderado', (5500., 2600., 4400., 1200.)], [55245923439, 'Moderado', (6100., 3000., 4600., 1400.)],\n",
    "        [51286696873, 'Moderado', (5800., 2600., 4000., 1200.)], [41065279767, 'Moderado', (5000., 2300., 3300., 1000.)],\n",
    "        [42866454119, 'Moderado', (5600., 2700., 4200., 1300.)], [61962944542, 'Moderado', (5700., 3000., 4200., 1200.)],\n",
    "        [48623501235, 'Moderado', (5700., 2900., 4200., 1300.)], [49475220139, 'Moderado', (6200., 2900., 4300., 1300.)],       [52245218531, 'Moderado', (5100., 2500., 3000., 1100.)],\n",
    "        [50932926697, 'Moderado', (5700., 2800., 4100., 1300.)], [47432932248, 'Agressivo', (6300., 3300., 6000., 2500.)],\n",
    "        [39321991579, 'Agressivo', (5800., 2700., 5100., 1900.)], [46283759608, 'Agressivo', (7100., 3000., 5900., 2100.)],\n",
    "        [56996272538, 'Agressivo', (6300., 2900., 5600., 1800.)], [77232189978, 'Agressivo', (6500., 3000., 5800., 2200.)],\n",
    "        [77183282421, 'Agressivo', (7600., 3000., 6600., 2100.)], [42857147573, 'Agressivo', (4900., 2500., 4500., 1700.)],\n",
    "        [39331584043, 'Agressivo', (7300., 2900., 6300., 1800.)], [48130345228, 'Agressivo', (6700., 2500., 5800., 1800.)],\n",
    "        [71422443953, 'Agressivo', (7200., 3600., 6100., 2500.)], [72508507904, 'Agressivo', (6900., 3200., 5700., 2300.)],\n",
    "        [41188727558, 'Agressivo', (5600., 2800., 4900., 2000.)], [61358776640, 'Agressivo', (7700., 2800., 6700., 2000.)],\n",
    "        [66934042323, 'Agressivo', (6300., 2700., 4900., 1800.)], [40622495567, 'Agressivo', (6700., 3300., 5700., 2100.)],\n",
    "        [57221661311, 'Agressivo', (7200., 3200., 6000., 1800.)], [45159362930, 'Agressivo', (6200., 2800., 4800., 1800.)],\n",
    "        [45018975174, 'Agressivo', (6100., 3000., 4900., 1800.)], [70685429140, 'Agressivo', (6400., 2800., 5600., 2100.)],\n",
    "        [61808723477, 'Agressivo', (7200., 3000., 5800., 1600.)], [56363906548, 'Agressivo', (7400., 2800., 6100., 1900.)],\n",
    "        [39646194720, 'Agressivo', (7900., 3800., 6400., 2000.)], [55385494438, 'Agressivo', (6400., 2800., 5600., 2200.)],\n",
    "        [75796138061, 'Agressivo', (6300., 2800., 5100., 1500.)], [53595767857, 'Agressivo', (6100., 2600., 5600., 1400.)],\n",
    "        [48758828080, 'Agressivo', (7700., 3000., 6100., 2300.)], [58387651356, 'Agressivo', (6300., 3400., 5600., 2400.)],\n",
    "        [72846931192, 'Agressivo', (6400., 3100., 5500., 1800.)], [47046896346, 'Agressivo', (6000., 3000., 4800., 1800.)],\n",
    "        [69730292799, 'Agressivo', (6900., 3100., 5400., 2100.)], [48177836349, 'Agressivo', (6700., 3100., 5600., 2400.)],\n",
    "        [57976326635, 'Agressivo', (6900., 3100., 5100., 2300.)], [55710813002, 'Agressivo', (5800., 2700., 5100., 1900.)],\n",
    "        [64028580439, 'Agressivo', (6800., 3200., 5900., 2300.)], [49962942971, 'Agressivo', (6700., 3300., 5700., 2500.)],\n",
    "        [47250893163, 'Agressivo', (6700., 3000., 5200., 2300.)], [75559276274, 'Agressivo', (6300., 2500., 5000., 1900.)],\n",
    "        [58529878272, 'Agressivo', (6500., 3000., 5200., 2000.)], [76005896622, 'Agressivo', (6200., 3400., 5400., 2300.)],\n",
    "        [49212614633, 'Agressivo', (5900., 3000., 5100., 1800.)]]"
   ]
  },
  {
   "cell_type": "code",
   "execution_count": null,
   "id": "9461a3eb",
   "metadata": {
    "ExecuteTime": {
     "end_time": "2021-07-10T19:41:02.127872Z",
     "start_time": "2021-07-10T19:41:01.991045Z"
    },
    "hidden": true
   },
   "outputs": [],
   "source": [
    "#BASE DE DADOS\n",
    "\n",
    "#Clientes Sem Classificação:\n",
    "\n",
    "no_class = [[45926320819, '', (5800., 4000., 1200., 200.)], [52559670741, '', (5700., 4400., 1500., 400.)],\n",
    "            [59016004832, '', (5400., 3900., 1300., 400.)], [66175672425, '', (5100., 3500., 1400., 300.)],\n",
    "            [53330429526, '', (5700., 3800., 1700., 300.)], [43765563403, '', (5100., 3800., 1500., 300.)],\n",
    "            [68020822591, '', (5400., 3400., 1700., 200.)], [53939481689, '', (5100., 3700., 1500., 400.)],\n",
    "            [47014057561, '', (4600., 3600., 1000., 200.)], [57183542047, '', (5100., 3300., 1700., 500.)],\n",
    "            [68518284363, '', (5000., 2000., 3500., 1000.)], [65806049885, '', (5900., 3000., 4200., 1500.)],\n",
    "            [54128073086, '', (6000., 2200., 4000., 1000.)], [41306785494, '', (6100., 2900., 4700., 1400.)],\n",
    "            [65234831039, '', (5600., 2900., 3600., 1300.)], [50964498067, '', (6700., 3100., 4400., 1400.)],\n",
    "            [50810951429, '', (5600., 3000., 4500., 1500.)], [48765044397, '', (5800., 2700., 4100., 1000.)],\n",
    "            [41960083761, '', (6200., 2200., 4500., 1500.)], [76657763082, '', (5600., 2500., 3900., 1100.)],\n",
    "            [64726487742, '', (6500., 3200., 5100., 2000.)], [75746566283, '', (6400., 2700., 5300., 1900.)],\n",
    "            [78576734793, '', (6800., 3000., 5500., 2100.)], [56440141847, '', (5700., 2500., 5000., 2000.)],\n",
    "            [66827423000, '', (5800., 2800., 5100., 2400.)], [45267873396, '', (6400., 3200., 5300., 2300.)],\n",
    "            [46387191493, '', (6500., 3000., 5500., 1800.)], [54273611732, '', (7700., 3800., 6700., 2200.)],\n",
    "            [75135392881, '', (7700., 2600., 6900., 2300.)], [64703873108, '', (6000., 2200., 5000., 1500.)]]"
   ]
  },
  {
   "cell_type": "code",
   "execution_count": null,
   "id": "92371244",
   "metadata": {
    "ExecuteTime": {
     "end_time": "2021-07-10T19:41:02.267817Z",
     "start_time": "2021-07-10T19:41:02.131870Z"
    },
    "hidden": true
   },
   "outputs": [],
   "source": [
    "#FUNÇÔES:\n",
    "\n",
    "'''\n",
    "\n",
    "Optei pela criação de apenas 2 funções: \n",
    " - Uma para criação de um dicionário dos clientes classificados {cpf:perfil} objetivando a posterior associação dos vizinhos \n",
    " mais próximos e seus respectivos perfis;\n",
    " - Uma para o cálculo da distância euclidiana do cliente a ser classificado com todos os clientes classificados.\n",
    "\n",
    "'''\n",
    "#dicionário {cpf:perfil} dos clientes classificados\n",
    "def cpf_perfil(dados, pos_cpf, pos_perfil):\n",
    "    dic_cpf_perfil = {}    \n",
    "    for elem in dados:\n",
    "        dic_cpf_perfil[elem[pos_cpf]] = elem[pos_perfil]\n",
    "    return dic_cpf_perfil\n",
    "\n",
    "#cálculo da distância euclidiana\n",
    "def dist_euc(lista1, lista2):\n",
    "    d = (sum([(x - y) ** 2 for x, y in zip(lista1, lista2)])) ** 0.5\n",
    "    return d"
   ]
  },
  {
   "cell_type": "code",
   "execution_count": null,
   "id": "93fa009a",
   "metadata": {
    "ExecuteTime": {
     "end_time": "2021-07-10T19:41:02.377349Z",
     "start_time": "2021-07-10T19:41:02.269791Z"
    },
    "hidden": true
   },
   "outputs": [],
   "source": [
    "#CORPO DO CÓDIGO:\n",
    "\n",
    "dic_no_class = {} #dicionário para armazenar CPF clientes não classificados, distancia e cpf clientes classificados\n",
    "perfil_estimado = {} #dicionário para armazenar os perfis estimados dos clientes não classificados\n",
    "\n",
    "for cliente_no_class in no_class: #para cada cliente na base de dados no_class:\n",
    "    dic_no_class[cliente_no_class[0]] = {}   \n",
    "    #input dos CPF clientes não classificados como chave e um dicionário vazio como valor no dic_no_class\n",
    "    \n",
    "    for cliente_class in data: #para cada cliente na base de dados data:\n",
    "        dic_no_class[cliente_no_class[0]][dist_euc(cliente_no_class[2], cliente_class[2])] = cliente_class[0]\n",
    "        ''' input do dicionário 'valor' em dic_no_class: chave é a distância do cliente não classificado com cliente \n",
    "            classificado e valor é o CPF do cliente classificado '''\n",
    "        \n",
    "    #buscando somente as distâncias e classificando-as da menor para a maior em uma lista    \n",
    "    \n",
    "    distancia = list(dic_no_class[cliente_no_class[0]].keys())\n",
    "    distancia.sort()\n",
    "    dist_menor = distancia[:5] #criando uma lista somente com as 5 menores distâncias (valor de k)\n",
    "       \n",
    "    perfil_class = cpf_perfil(data, 0, 1) #criação do dicionário dos clientes classificados {cpf:perfil}\n",
    "    \n",
    "    vizinho_class = [] #lista para armazenar perfis dos clientes mais próximos dos clientes não classificados\n",
    "    \n",
    "    for dist in dist_menor: #para cada uma das 5 menores distâncias:\n",
    "        vizinho_class.append(perfil_class.get(dic_no_class[cliente_no_class[0]].get(dist)))\n",
    "        #atribui os perfis correspondentes dos clientes mais próximos na lista vizinho_class\n",
    "        \n",
    "    #verificação de qual perfil possui maior frequência ('MODA') com base nos perfis correspondentes mais próximos \n",
    "    \n",
    "    count = 0\n",
    "    perfis = ['Conservador', 'Moderado', 'Agressivo'] #lista dos perfis possíveis para classificação final\n",
    "    for perfil in perfis:       \n",
    "        if count < vizinho_class.count(perfil):            \n",
    "            count = vizinho_class.count(perfil)\n",
    "            perfil_estimado[cliente_no_class[0]] = perfil       \n",
    "\n",
    "print('Perfis estimados para a base de dados no_class:\\n')\n",
    "   \n",
    "print(perfil_estimado)"
   ]
  }
 ],
 "metadata": {
  "kernelspec": {
   "display_name": "Python 3",
   "language": "python",
   "name": "python3"
  },
  "language_info": {
   "codemirror_mode": {
    "name": "ipython",
    "version": 3
   },
   "file_extension": ".py",
   "mimetype": "text/x-python",
   "name": "python",
   "nbconvert_exporter": "python",
   "pygments_lexer": "ipython3",
   "version": "3.9.4"
  },
  "varInspector": {
   "cols": {
    "lenName": 16,
    "lenType": 16,
    "lenVar": 40
   },
   "kernels_config": {
    "python": {
     "delete_cmd_postfix": "",
     "delete_cmd_prefix": "del ",
     "library": "var_list.py",
     "varRefreshCmd": "print(var_dic_list())"
    },
    "r": {
     "delete_cmd_postfix": ") ",
     "delete_cmd_prefix": "rm(",
     "library": "var_list.r",
     "varRefreshCmd": "cat(var_dic_list()) "
    }
   },
   "types_to_exclude": [
    "module",
    "function",
    "builtin_function_or_method",
    "instance",
    "_Feature"
   ],
   "window_display": false
  }
 },
 "nbformat": 4,
 "nbformat_minor": 5
}
